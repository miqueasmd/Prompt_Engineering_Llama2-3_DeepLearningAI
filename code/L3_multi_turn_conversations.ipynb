{
 "cells": [
  {
   "cell_type": "markdown",
   "id": "ec0720fc-a21e-4b12-8cb1-1c71d0fa49ee",
   "metadata": {},
   "source": [
    "# Lesson 3\n",
    "Import llama helper function:"
   ]
  },
  {
   "cell_type": "code",
   "execution_count": 1,
   "id": "e2231536-f799-4cc4-a70b-9cf8bb3aeb79",
   "metadata": {
    "height": 30
   },
   "outputs": [],
   "source": [
    "from utils import llama\n",
    "from utils import llama_chat"
   ]
  },
  {
   "cell_type": "markdown",
   "id": "84c51a7d-f4f6-4917-85e8-b62d4a6db72d",
   "metadata": {},
   "source": [
    "### LLMs are stateless\n",
    "LLMs don't remember your previous interactions with them by default."
   ]
  },
  {
   "cell_type": "code",
   "execution_count": null,
   "id": "29f01f0f-18d3-4103-a5c5-e16d073ea8e1",
   "metadata": {
    "height": 98
   },
   "outputs": [],
   "source": [
    "prompt = \"\"\"\n",
    "    What are fun activities I can do this weekend?\n",
    "\"\"\"\n",
    "response = llama(prompt)\n",
    "print(response)"
   ]
  },
  {
   "cell_type": "code",
   "execution_count": null,
   "id": "8bfc928c-62b1-4159-aee5-1d29ea8b1621",
   "metadata": {
    "height": 98
   },
   "outputs": [],
   "source": [
    "prompt_2 = \"\"\"\n",
    "Which of these would be good for my health?\n",
    "\"\"\"\n",
    "response_2 = llama(prompt_2)\n",
    "print(response_2)"
   ]
  },
  {
   "cell_type": "markdown",
   "id": "b02be5f2-9289-4c4e-b886-95c0f71dc1c6",
   "metadata": {},
   "source": [
    "### Constructing multi-turn prompts\n",
    "You need to provide prior prompts and responses as part of the context of each new turn in the conversation."
   ]
  },
  {
   "cell_type": "code",
   "execution_count": 2,
   "id": "09b0135e-3b53-42f7-ad04-821abed0a571",
   "metadata": {
    "height": 81
   },
   "outputs": [],
   "source": [
    "prompt_1 = \"\"\"\n",
    "    What are fun activities I can do this weekend?\n",
    "\"\"\"\n",
    "response_1 = llama(prompt_1)"
   ]
  },
  {
   "cell_type": "code",
   "execution_count": 3,
   "id": "174d6d46-a985-4dc1-bc78-a780ac79c820",
   "metadata": {
    "height": 64
   },
   "outputs": [],
   "source": [
    "prompt_2 = \"\"\"\n",
    "Which of these would be good for my health?\n",
    "\"\"\""
   ]
  },
  {
   "cell_type": "code",
   "execution_count": null,
   "id": "c28bb016-f6ba-40c8-9005-6d7a01c9c9b9",
   "metadata": {
    "height": 132
   },
   "outputs": [],
   "source": [
    "chat_prompt = f\"\"\"\n",
    "<s>[INST] {prompt_1} [/INST]\n",
    "{response_1}\n",
    "</s>\n",
    "<s>[INST] {prompt_2} [/INST]\n",
    "\"\"\"\n",
    "print(chat_prompt)"
   ]
  },
  {
   "cell_type": "code",
   "execution_count": null,
   "id": "4a84eeb7-d9a9-43b8-ae45-84319acacbbd",
   "metadata": {
    "height": 64
   },
   "outputs": [],
   "source": [
    "response_2 = llama(chat_prompt,\n",
    "                 add_inst=False,\n",
    "                 verbose=True)"
   ]
  },
  {
   "cell_type": "code",
   "execution_count": null,
   "id": "71c6d6b0-e349-4b19-8deb-3a264f5ac549",
   "metadata": {
    "height": 30
   },
   "outputs": [],
   "source": [
    "print(response_2)"
   ]
  },
  {
   "cell_type": "markdown",
   "id": "97681aed-60be-4090-a149-ec55980da388",
   "metadata": {},
   "source": [
    "### Use llama chat helper function"
   ]
  },
  {
   "cell_type": "code",
   "execution_count": 2,
   "id": "215f7036-14d1-4f95-bcb3-1c8de3a77628",
   "metadata": {
    "height": 81
   },
   "outputs": [],
   "source": [
    "prompt_1 = \"\"\"\n",
    "    What are fun activities I can do this weekend?\n",
    "\"\"\"\n",
    "response_1 = llama(prompt_1)"
   ]
  },
  {
   "cell_type": "code",
   "execution_count": 3,
   "id": "345f48db-2908-4298-a056-67514cc45b39",
   "metadata": {
    "height": 64
   },
   "outputs": [],
   "source": [
    "prompt_2 = \"\"\"\n",
    "Which of these would be good for my health?\n",
    "\"\"\""
   ]
  },
  {
   "cell_type": "code",
   "execution_count": 4,
   "id": "dc353f4a-970a-470e-aa1f-cab44c393261",
   "metadata": {
    "height": 47
   },
   "outputs": [],
   "source": [
    "prompts = [prompt_1,prompt_2]\n",
    "responses = [response_1]"
   ]
  },
  {
   "cell_type": "code",
   "execution_count": 5,
   "id": "ef09d61b-f6a9-4177-9682-7582bdbc342b",
   "metadata": {
    "height": 47
   },
   "outputs": [
    {
     "name": "stdout",
     "output_type": "stream",
     "text": [
      "Full conversation:\n",
      "user: \n",
      "    What are fun activities I can do this weekend?\n",
      "\n",
      "\n",
      "assistant: There are many fun activities you can do this weekend, depending on your interests and preferences. Here are some ideas:\n",
      "\n",
      "1. **Outdoor activities**: Go for a hike, have a picnic, or try kayaking, rock climbing, or biking. You can also visit a nearby park or nature reserve for a relaxing walk.\n",
      "2. **Creative pursuits**: Try painting, drawing, or pottery. You can also attend a cooking class, learn a new recipe, or start a DIY project.\n",
      "3. **Sports and games**: Play a sport like tennis, basketball, or soccer. You can also host a game night with friends, play board games, or try an escape room.\n",
      "4. **Cultural events**: Visit a museum, attend a concert, or watch a play. You can also explore local art galleries, festivals, or street performances.\n",
      "5. **Food and drink**: Try a new restaurant, go on a wine tasting tour, or take a brewery tour. You can also host a dinner party or try a new cuisine.\n",
      "6. **Relaxation and wellness**: Treat yourself to a spa day, try yoga or meditation, or take a relaxing bath. You can also read a book, listen to music, or take a nap.\n",
      "7. **Travel and exploration**: Plan a weekend getaway to a nearby city or town. You can also explore local neighborhoods, visit a new cafe, or try a new type of cuisine.\n",
      "8. **Social activities**: Host a party, attend a meetup, or join a club that aligns with your interests. You can also volunteer, attend a charity event, or participate in a community project.\n",
      "9. **Learning and personal growth**: Take an online course, attend a workshop, or learn a new skill. You can also practice a new language, read a self-help book, or set personal goals.\n",
      "10. **Miscellaneous**: Try geocaching, go stargazing, or attend a comedy show. You can also visit a trampoline park, play laser tag, or try an indoor climbing wall.\n",
      "\n",
      "Remember to prioritize your safety and well-being, and choose activities that bring you joy and fulfillment. What sounds interesting to you?\n",
      "\n",
      "user: \n",
      "Which of these would be good for my health?\n",
      "\n",
      "\n"
     ]
    }
   ],
   "source": [
    "# Pass prompts and responses to llama_chat function\n",
    "response_2 = llama_chat(prompts,responses,verbose=True)"
   ]
  },
  {
   "cell_type": "code",
   "execution_count": 6,
   "id": "1c7cd767-3517-4f5e-9f11-708ec42e1e83",
   "metadata": {
    "height": 30
   },
   "outputs": [
    {
     "name": "stdout",
     "output_type": "stream",
     "text": [
      "Many of the activities I listed can be beneficial for your health, depending on your individual needs and preferences. Here are some activities from my previous list that can be particularly good for your health:\n",
      "\n",
      "1. **Outdoor activities**: Hiking, biking, and kayaking can be great ways to get exercise and fresh air.\n",
      "2. **Relaxation and wellness**: Yoga, meditation, and spa days can help reduce stress and improve mental well-being.\n",
      "3. **Sports and games**: Playing sports like tennis, basketball, or soccer can be a fun way to get exercise and improve cardiovascular health.\n",
      "4. **Learning and personal growth**: Practicing mindfulness, learning a new skill, or setting personal goals can help improve mental health and well-being.\n",
      "\n",
      "Additionally, here are some specific health benefits associated with certain activities:\n",
      "\n",
      "* **Reducing stress**: Yoga, meditation, reading, and listening to music can help reduce stress and anxiety.\n",
      "* **Improving cardiovascular health**: Hiking, biking, swimming, and playing sports can help improve heart health and reduce the risk of chronic diseases.\n",
      "* **Improving mental health**: Learning a new skill, practicing mindfulness, and connecting with others through social activities can help improve mental health and well-being.\n",
      "* **Improving sleep**: Establishing a consistent sleep schedule, avoiding screens before bed, and practicing relaxation techniques can help improve sleep quality.\n",
      "\n",
      "Remember to always consult with a healthcare professional before starting any new exercise or activity program, especially if you have any underlying health conditions.\n",
      "\n",
      "Which of these health benefits is most important to you?\n"
     ]
    }
   ],
   "source": [
    "print(response_2)"
   ]
  },
  {
   "cell_type": "markdown",
   "id": "a3be0623-1d41-41bb-8bb5-261960761652",
   "metadata": {},
   "source": [
    "### Try it Yourself!"
   ]
  },
  {
   "cell_type": "code",
   "execution_count": 7,
   "id": "60b99648-3ce1-45ce-a2b5-7dffeed1eea9",
   "metadata": {
    "height": 149
   },
   "outputs": [
    {
     "name": "stdout",
     "output_type": "stream",
     "text": [
      "['\\n    What are fun activities I can do this weekend?\\n', '\\nWhich of these would be good for my health?\\n', 'Organise the activities by cost']\n",
      "['There are many fun activities you can do this weekend, depending on your interests and preferences. Here are some ideas:\\n\\n1. **Outdoor activities**: Go for a hike, have a picnic, or try kayaking, rock climbing, or biking. You can also visit a nearby park or nature reserve for a relaxing walk.\\n2. **Creative pursuits**: Try painting, drawing, or pottery. You can also attend a cooking class, learn a new recipe, or start a DIY project.\\n3. **Sports and games**: Play a sport like tennis, basketball, or soccer. You can also host a game night with friends, play board games, or try an escape room.\\n4. **Cultural events**: Visit a museum, attend a concert, or watch a play. You can also explore local art galleries, festivals, or street performances.\\n5. **Food and drink**: Try a new restaurant, go on a wine tasting tour, or take a brewery tour. You can also host a dinner party or try a new cuisine.\\n6. **Relaxation and wellness**: Treat yourself to a spa day, try yoga or meditation, or take a relaxing bath. You can also read a book, listen to music, or take a nap.\\n7. **Travel and exploration**: Plan a weekend getaway to a nearby city or town. You can also explore local neighborhoods, visit a new cafe, or try a new type of cuisine.\\n8. **Social activities**: Host a party, attend a meetup, or join a club that aligns with your interests. You can also volunteer, attend a charity event, or participate in a community project.\\n9. **Learning and personal growth**: Take an online course, attend a workshop, or learn a new skill. You can also practice a new language, read a self-help book, or set personal goals.\\n10. **Miscellaneous**: Try geocaching, go stargazing, or attend a comedy show. You can also visit a trampoline park, play laser tag, or try an indoor climbing wall.\\n\\nRemember to prioritize your safety and well-being, and choose activities that bring you joy and fulfillment. What sounds interesting to you?', 'Many of the activities I listed can be beneficial for your health, depending on your individual needs and preferences. Here are some activities from my previous list that can be particularly good for your health:\\n\\n1. **Outdoor activities**: Hiking, biking, and kayaking can be great ways to get exercise and fresh air.\\n2. **Relaxation and wellness**: Yoga, meditation, and spa days can help reduce stress and improve mental well-being.\\n3. **Sports and games**: Playing sports like tennis, basketball, or soccer can be a fun way to get exercise and improve cardiovascular health.\\n4. **Learning and personal growth**: Practicing mindfulness, learning a new skill, or setting personal goals can help improve mental health and well-being.\\n\\nAdditionally, here are some specific health benefits associated with certain activities:\\n\\n* **Reducing stress**: Yoga, meditation, reading, and listening to music can help reduce stress and anxiety.\\n* **Improving cardiovascular health**: Hiking, biking, swimming, and playing sports can help improve heart health and reduce the risk of chronic diseases.\\n* **Improving mental health**: Learning a new skill, practicing mindfulness, and connecting with others through social activities can help improve mental health and well-being.\\n* **Improving sleep**: Establishing a consistent sleep schedule, avoiding screens before bed, and practicing relaxation techniques can help improve sleep quality.\\n\\nRemember to always consult with a healthcare professional before starting any new exercise or activity program, especially if you have any underlying health conditions.\\n\\nWhich of these health benefits is most important to you?']\n"
     ]
    }
   ],
   "source": [
    "# replace prompt_3 with your own question!\n",
    "prompt_3 = \"Organise the activities by cost\"\n",
    "prompts = [prompt_1, prompt_2, prompt_3]\n",
    "print(prompts)\n",
    "responses = [response_1, response_2]\n",
    "print(responses)\n",
    "\n"
   ]
  },
  {
   "cell_type": "code",
   "execution_count": 8,
   "id": "eb4695b9",
   "metadata": {},
   "outputs": [
    {
     "name": "stdout",
     "output_type": "stream",
     "text": [
      "Full conversation:\n",
      "user: \n",
      "    What are fun activities I can do this weekend?\n",
      "\n",
      "\n",
      "assistant: There are many fun activities you can do this weekend, depending on your interests and preferences. Here are some ideas:\n",
      "\n",
      "1. **Outdoor activities**: Go for a hike, have a picnic, or try kayaking, rock climbing, or biking. You can also visit a nearby park or nature reserve for a relaxing walk.\n",
      "2. **Creative pursuits**: Try painting, drawing, or pottery. You can also attend a cooking class, learn a new recipe, or start a DIY project.\n",
      "3. **Sports and games**: Play a sport like tennis, basketball, or soccer. You can also host a game night with friends, play board games, or try an escape room.\n",
      "4. **Cultural events**: Visit a museum, attend a concert, or watch a play. You can also explore local art galleries, festivals, or street performances.\n",
      "5. **Food and drink**: Try a new restaurant, go on a wine tasting tour, or take a brewery tour. You can also host a dinner party or try a new cuisine.\n",
      "6. **Relaxation and wellness**: Treat yourself to a spa day, try yoga or meditation, or take a relaxing bath. You can also read a book, listen to music, or take a nap.\n",
      "7. **Travel and exploration**: Plan a weekend getaway to a nearby city or town. You can also explore local neighborhoods, visit a new cafe, or try a new type of cuisine.\n",
      "8. **Social activities**: Host a party, attend a meetup, or join a club that aligns with your interests. You can also volunteer, attend a charity event, or participate in a community project.\n",
      "9. **Learning and personal growth**: Take an online course, attend a workshop, or learn a new skill. You can also practice a new language, read a self-help book, or set personal goals.\n",
      "10. **Miscellaneous**: Try geocaching, go stargazing, or attend a comedy show. You can also visit a trampoline park, play laser tag, or try an indoor climbing wall.\n",
      "\n",
      "Remember to prioritize your safety and well-being, and choose activities that bring you joy and fulfillment. What sounds interesting to you?\n",
      "\n",
      "user: \n",
      "Which of these would be good for my health?\n",
      "\n",
      "\n",
      "assistant: Many of the activities I listed can be beneficial for your health, depending on your individual needs and preferences. Here are some activities from my previous list that can be particularly good for your health:\n",
      "\n",
      "1. **Outdoor activities**: Hiking, biking, and kayaking can be great ways to get exercise and fresh air.\n",
      "2. **Relaxation and wellness**: Yoga, meditation, and spa days can help reduce stress and improve mental well-being.\n",
      "3. **Sports and games**: Playing sports like tennis, basketball, or soccer can be a fun way to get exercise and improve cardiovascular health.\n",
      "4. **Learning and personal growth**: Practicing mindfulness, learning a new skill, or setting personal goals can help improve mental health and well-being.\n",
      "\n",
      "Additionally, here are some specific health benefits associated with certain activities:\n",
      "\n",
      "* **Reducing stress**: Yoga, meditation, reading, and listening to music can help reduce stress and anxiety.\n",
      "* **Improving cardiovascular health**: Hiking, biking, swimming, and playing sports can help improve heart health and reduce the risk of chronic diseases.\n",
      "* **Improving mental health**: Learning a new skill, practicing mindfulness, and connecting with others through social activities can help improve mental health and well-being.\n",
      "* **Improving sleep**: Establishing a consistent sleep schedule, avoiding screens before bed, and practicing relaxation techniques can help improve sleep quality.\n",
      "\n",
      "Remember to always consult with a healthcare professional before starting any new exercise or activity program, especially if you have any underlying health conditions.\n",
      "\n",
      "Which of these health benefits is most important to you?\n",
      "\n",
      "user: Organise the activities by cost\n",
      "\n",
      "Here are the activities organized by cost, from free to expensive:\n",
      "\n",
      "**Free:**\n",
      "\n",
      "1. **Outdoor activities**: Going for a walk, hike, or run in a nearby park or nature reserve.\n",
      "2. **Relaxation and wellness**: Practicing yoga, meditation, or deep breathing exercises at home.\n",
      "3. **Learning and personal growth**: Reading a book from your local library, watching educational videos online, or practicing a new skill through online tutorials.\n",
      "4. **Social activities**: Meeting a friend for a walk or coffee, or attending a free community event.\n",
      "\n",
      "**Low cost (under $20):**\n",
      "\n",
      "1. **Outdoor activities**: Visiting a local museum or art gallery, or going for a bike ride or kayaking trip.\n",
      "2. **Creative pursuits**: Drawing, painting, or crafting at home with materials you already have.\n",
      "3. **Sports and games**: Playing a sport with friends, such as soccer or basketball, or hosting a game night with board games you already own.\n",
      "4. **Food and drink**: Trying a new recipe at home, or hosting a potluck dinner with friends.\n",
      "\n",
      "**Moderate cost ($20-$50):**\n",
      "\n",
      "1. **Outdoor activities**: Taking a guided hike or nature walk, or renting a bike or kayak for the day.\n",
      "2. **Creative pursuits**: Taking a cooking class, or attending a pottery or painting workshop.\n",
      "3. **Sports and games**: Joining a recreational sports team, or attending a concert or comedy show.\n",
      "4. **Food and drink**: Trying a new restaurant, or taking a wine and cheese tasting tour.\n",
      "\n",
      "**High cost (over $50):**\n",
      "\n",
      "1. **Travel and exploration**: Taking a weekend trip to a nearby city or town, or going on a guided tour.\n",
      "2. **Relaxation and wellness**: Getting a massage, or spending the day at a spa.\n",
      "3. **Sports and games**: Taking a private sports lesson, or attending a professional sporting event.\n",
      "4. **Food and drink**: Taking a culinary class, or dining at a high-end restaurant.\n",
      "\n",
      "**Variable cost:**\n",
      "\n",
      "1. **Learning and personal growth**: Taking an online course or attending a workshop, which can vary in cost depending on the provider and topic.\n",
      "2. **Social activities**: Hosting a party or attending a charity event, which can vary in cost depending on the size and scope of the event.\n",
      "\n",
      "Keep in mind that these are rough estimates, and costs can vary depending on your location and other factors.\n"
     ]
    }
   ],
   "source": [
    "response_3 = llama_chat(prompts, responses, verbose=True)\n",
    "print(response_3)"
   ]
  }
 ],
 "metadata": {
  "kernelspec": {
   "display_name": "Python 3",
   "language": "python",
   "name": "python3"
  },
  "language_info": {
   "codemirror_mode": {
    "name": "ipython",
    "version": 3
   },
   "file_extension": ".py",
   "mimetype": "text/x-python",
   "name": "python",
   "nbconvert_exporter": "python",
   "pygments_lexer": "ipython3",
   "version": "3.12.6"
  }
 },
 "nbformat": 4,
 "nbformat_minor": 5
}
